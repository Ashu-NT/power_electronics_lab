{
 "cells": [
  {
   "cell_type": "markdown",
   "id": "09fdc617",
   "metadata": {},
   "source": [
    "<div align=\"center\">\n",
    "\n",
    "**Lab Report Title**  \n",
    "*Digital-to-Analog Converter*\n",
    "\n",
    "**Course:** ELECTRONICS 2 \n",
    "\n",
    "**Date:** 03/07/2025\n",
    "\n",
    "\n",
    "**Group Members**\n",
    "\n",
    "| Full Name                 | Matriculation No. |\n",
    "| ------------------------- | ----------------- |\n",
    "| Ashu Nkongho Tekoh        | 2756129           |\n",
    "| Enes Gjana                | 2770615           |\n",
    "| Elhama Adel               | 2756781           |\n",
    "\n",
    "\n",
    "</div>"
   ]
  },
  {
   "cell_type": "code",
   "execution_count": 3,
   "id": "d6e6cf6e",
   "metadata": {},
   "outputs": [
    {
     "name": "stdout",
     "output_type": "stream",
     "text": [
      "The autoreload extension is already loaded. To reload it, use:\n",
      "  %reload_ext autoreload\n"
     ]
    }
   ],
   "source": [
    "#Load all Import\n",
    "\n",
    "%load_ext autoreload\n",
    "%autoreload 2"
   ]
  },
  {
   "cell_type": "markdown",
   "id": "28def29c",
   "metadata": {},
   "source": [
    "## Objective\n",
    "The main goal of this lab is to understand and implement signal conversion between digital and analog domains. This is achieved by:\n",
    "\n",
    "- Using an **R-2R resistor network** to build a **Digital-to-Analog Converter (DAC)**.\n",
    "- Using the DAC setup as the basis for creating an **Analog-to-Digital Converter (ADC)**.\n",
    "\n",
    "## Requirements\n",
    "- The lab **protocol must be prepared in advance**, so that only measurement results need to be added during the lab session.\n",
    "- The **final version of the protocol must be submitted during the lab** via Moodle.\n",
    "- The **last hour** of the lab is reserved for **finalizing the protocol**.\n",
    "- A **discussion and feedback session** will be held at the end.\n",
    "\n",
    "## Learning Outcomes\n",
    "- Gain practical experience in **converting analog signals to digital** and vice versa.\n",
    "- Develop a strong understanding of how the **R-2R DAC** works.\n",
    "- Practice **real-time documentation** and **instant submission** of lab reports.\n",
    "- Reflect on the experiment in a **feedback and lessons learned discussion**."
   ]
  },
  {
   "cell_type": "markdown",
   "id": "3bf4b067",
   "metadata": {},
   "source": [
    "## Preparation 1\n",
    "\n",
    "We should calculate R9, which is the reference resistor of this R-2R digital-to-analog converter. The output voltage is given by the formula:\n",
    "\n",
    "$V_{out} = \\frac{-V_{REF} \\times Rf}{R} \\times \\sum_{i=0}^{i=N-1} \\frac{Bi}{2^{N-i}}$\n",
    "\n",
    "Where:\n",
    "\n",
    "• $V_{REF}$ is the reference voltage.\n",
    "\n",
    "• $N$ is the number of bits (here, $N = 4$).\n",
    "\n",
    "• $D$ is the decimal equivalent of the binary input, calculated as: $D = 8b_3 + 4b_2 + 2b_1 + b_0$\n",
    "\n",
    "• $I$ is the index of the bit, N number of bits and B is either 0 or 1.\n",
    "\n",
    "When replacing $V_{OUT}$ with -4 V and $V_{REF}$ with 5 V for the full scale, which is 1111 as an input. We will get $R_9$ of 8.5333 Ω."
   ]
  },
  {
   "cell_type": "markdown",
   "id": "4bacfe6d",
   "metadata": {},
   "source": [
    "## Lab Setup 1\n",
    "\n",
    "In this lab, a Digital-to-Analog Converter (DAC) was implemented using an R-2R resistor network to convert digital inputs into analog voltages.\n",
    "\n",
    "The circuit was built on a breadboard with a reference voltage of **VREF = 5V** and a target full-scale output of **VOUT = −4V**. The required resistor **R9** was calculated accordingly.\n",
    "\n",
    "Theoretical output values **VOUT = f(d)** were derived for all digital inputs and compared with measured values taken using a **Fluke 8808A multimeter**. The differences between them were calculated to assess accuracy.\n",
    "\n",
    "A **74HCT93 binary counter** was added to automate input values, driven by a clock signal from the **R&S HMF2550 frequency generator**. The resulting analog output was observed on a **Tektronix MDO3034 oscilloscope**.\n",
    "\n",
    "Finally, the concept of **quantization error** was explained and calculated by comparing ideal and actual output levels.\n",
    "\n",
    "\n",
    "\n",
    "| Decimal Value (D) | Binary Input [b₃b₂b₁b₀] | Calculated Voltage (V_out) | Measured Voltage |\n",
    "|:-----------------:|:----------------------:|:-------------------------:|:---------------:|\n",
    "| 0 | 0000 | 0 |  |\n",
    "| 1 | 0001 | $\\frac{-1}{32}R_9 = -0.2666$ V |  |\n",
    "| 2 | 0010 | $\\frac{-1}{16}R_9 = -0.5333$ V |  |\n",
    "| 3 | 0011 | $\\frac{-3}{32}R_9 = -0.8$ V |  |\n",
    "| 4 | 0100 | $\\frac{-1}{8}R_9 = -1.0666$ V |  |\n",
    "| 5 | 0101 | $\\frac{-5}{32}R_9 = -1.3333$ V |  |\n",
    "| 6 | 0110 | $\\frac{-3}{16}R_9 = -1.6$ V |  |\n",
    "| 7 | 0111 | $\\frac{-7}{32}R_9 = -1.8666$ V |  |\n",
    "| 8 | 1000 | $\\frac{-1}{4}R_9 = -2.1333$ V |  |\n",
    "| 9 | 1001 | $\\frac{-9}{32}R_9 = -2.4$ V |  |\n",
    "| 10 | 1010 | $\\frac{-5}{16}R_9 = -2.6666$ V |  |\n",
    "| 11 | 1011 | $\\frac{-11}{32}R_9 = -2.9333$ V |  |\n",
    "| 12 | 1100 | $\\frac{-3}{8}R_9 = -3.2$ V |  |\n",
    "| 13 | 1101 | $\\frac{-13}{32}R_9 = -3.4666$ V |  |\n",
    "| 14 | 1110 | $\\frac{-7}{16}R_9 = -3.7333$ V |  |\n",
    "| 15 | 1111 | $\\frac{-15}{32}R_9 = -4$ V |  |"
   ]
  },
  {
   "cell_type": "code",
   "execution_count": 4,
   "id": "a9910cc4",
   "metadata": {},
   "outputs": [],
   "source": [
    "from components.data_visualizing import insert_circut_diagram\n",
    "\n",
    "# change to TRUE is we have Simulation Circuit Image\n",
    "# Provide to the image folder, change the name to match\n",
    "\n",
    "IS_LTSPICE_CIRCUIT_AVAILABLE = False\n",
    "img_path = '../images/.jpg'  # change string to name of the image\n",
    "img_title = \"Lab Setup\" # Enter Image Title Here\n",
    "\n",
    "if IS_LTSPICE_CIRCUIT_AVAILABLE:\n",
    "    insert_circut_diagram(img_path=img_path,img_title=img_title)"
   ]
  },
  {
   "cell_type": "markdown",
   "id": "36a56476",
   "metadata": {},
   "source": [
    "## Preparation 2.\n",
    "\n",
    "\n",
    "**Input and Output Specifications** \n",
    "\n",
    "Input: The circuit receives an analog voltage signal from a sensor with a range of 0V to 4V. For this experiment, we will use a reference sensor voltage of 2.8V.\n",
    "\n",
    "Output: The system generates a 4-bit digital representation (0000 to 1111) of the analog input voltage. This conversion is achieved through an analog-to-digital conversion process utilizing a comparator, DAC, and up/down counter.\n",
    "\n",
    "**Circuit Operation with 2.8V Sensor Input**\n",
    "\n",
    "The ADC circuit operates through the following sequence:\n",
    "\n",
    "1. Sensor Signal Input: The 2.8V sensor signal is fed into the non-inverting input of the LM311 comparator.\n",
    "\n",
    "2. DAC Reference Generation: A 4-bit up/down counter (74LS669) drives the DAC, which generates an analog reference voltage corresponding to the current binary count.\n",
    "\n",
    "3. Voltage Comparison Process: The LM311 comparator continuously compares the DAC output against the sensor input:\n",
    "- DAC output < sensor input: Comparator outputs HIGH → counter increments\n",
    "- DAC output > sensor input: Comparator outputs LOW → counter decrements\n",
    "\n",
    "4. Feedback Control: The counter adjusts its value based on the comparator output. When the DAC output surpasses 2.8V, the comparator triggers the counter to decrement, reducing the DAC output accordingly.\n",
    "\n",
    "5. Steady-State Oscillation: The system reaches equilibrium by oscillating between two consecutive digital values that bracket the sensor voltage (for example, alternating between 1011 and 1100).\n",
    "%% [markdown]\n",
    "**Physical Circuit Implementation (Reference: Figures 2 and 5)**\n",
    "\n",
    "**Power Supply Configuration**\n",
    "Connect the following power rails to both PCBs:\n",
    "- +5V supply rail\n",
    "- -15V supply rail\n",
    "- Ground reference\n",
    "\n",
    "**Signal Interconnections**\n",
    "- Sensor to Comparator: Route the sensor output (2.8V) to the LM311 non-inverting input\n",
    "- DAC to Comparator: Connect the DAC analog output to the LM311 inverting (reference) input\n",
    "- Counter to DAC: Wire the 4-bit counter output directly to the DAC input lines\n",
    "\n",
    "**Timing and Control**\n",
    "- Clock Source: Supply a stable TTL-compatible clock signal to drive the counter (use either onboard oscillator or external clock generator)\n",
    "- Direction Control: Connect the UP/DOWN control pin of the counter to the LM311 comparator output to enable automatic counting direction control\n",
    "\n",
    "**Observation**\n",
    "- Connect output pins or LEDs to observe the 4-bit output. With\n",
    " 2.8V input, digital output will toggle between values (approx. 1011 and 1100)."
   ]
  },
  {
   "cell_type": "markdown",
   "id": "97756941",
   "metadata": {},
   "source": [
    "## Lab Setup 2\n",
    "**Power Supply Configuration**\n",
    "The power connections for both printed circuit boards were established first. The +5V power rail was connected to both PCBs, ensuring a stable positive voltage supply for the digital components. The -15V power rail was connected to provide the negative supply required by the operational amplifiers. Ground connections were established across all circuit boards to create a common reference point for all measurements.\n",
    "\n",
    "**Signal Interconnections**\n",
    "Following the power connections, the signal wiring was completed. The sensor output, set to 2.8V, was connected directly to the non-inverting input of the LM311 comparator. The DAC analog output was wired to the inverting input of the LM311, creating the reference voltage for comparison. The 4-bit counter output lines were carefully routed to the corresponding DAC input pins, ensuring proper bit alignment. To complete the feedback loop, the LM311 comparator output was connected to the UP/DOWN control pin of the counter.\n",
    "\n",
    "**Clock and Control Setup**\n",
    "A stable TTL-compatible clock signal was provided to drive the counter operation. The clock frequency was set to ensure stable operation without causing excessive oscillation. All control signals were verified to be properly routed, and the counter direction control was confirmed to be correctly connected to respond to the comparator output.\n",
    "\n",
    "**Final Verification**\n",
    "Before powering up the complete system, all connections were double-checked using the circuit diagrams. The power supply voltages were verified to be within specification and all signal paths were confirmed to be correctly established. The setup was then ready for the experimental measurements."
   ]
  },
  {
   "cell_type": "code",
   "execution_count": null,
   "id": "72e6da0c",
   "metadata": {},
   "outputs": [],
   "source": [
    "from components.data_visualizing import insert_circut_diagram\n",
    "\n",
    "# change to TRUE is we have Simulation Circuit Image\n",
    "# Provide to the image folder, change the name to match\n",
    "\n",
    "IS_LTSPICE_CIRCUIT_AVAILABLE = False\n",
    "img_path = '../images/.jpg'  # change string to name of the image\n",
    "img_title = \"Lab Setup\" # Enter Image Title Here\n",
    "\n",
    "if IS_LTSPICE_CIRCUIT_AVAILABLE:\n",
    "    insert_circut_diagram(img_path=img_path,img_title=img_title)"
   ]
  }
 ],
 "metadata": {
  "kernelspec": {
   "display_name": ".venv",
   "language": "python",
   "name": "python3"
  },
  "language_info": {
   "codemirror_mode": {
    "name": "ipython",
    "version": 3
   },
   "file_extension": ".py",
   "mimetype": "text/x-python",
   "name": "python",
   "nbconvert_exporter": "python",
   "pygments_lexer": "ipython3",
   "version": "3.13.0"
  }
 },
 "nbformat": 4,
 "nbformat_minor": 5
}
