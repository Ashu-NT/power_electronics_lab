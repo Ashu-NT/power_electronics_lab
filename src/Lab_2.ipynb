{
 "cells": [
  {
   "cell_type": "markdown",
   "id": "7e453396",
   "metadata": {},
   "source": [
    "<div align=\"center\">\n",
    "\n",
    "**Lab Report Title**  \n",
    "*e.g. Analysis of MOSFET Switching Characteristics*\n",
    "\n",
    "**Course:** ELECTRONICS 2 \n",
    "**Date:** 28/05/2025\n",
    "\n",
    "\n",
    "**Group Members**\n",
    "\n",
    "| Full Name                 | Matriculation No. |\n",
    "| ------------------------- | ----------------- |\n",
    "| Ashu Nkongho Tekoh        | 2756129           |\n",
    "| xxxx xxxxxxx xxxxx        | xxxxxxx           |\n",
    "| xxxx xxxxxxx xxxxx        | xxxxxxx           |\n",
    "\n",
    "\n",
    "</div>"
   ]
  },
  {
   "cell_type": "code",
   "execution_count": null,
   "id": "fd3aca9e",
   "metadata": {},
   "outputs": [],
   "source": [
    "#Load all Import\n",
    "\n",
    "%load_ext autoreload\n",
    "%autoreload 2"
   ]
  },
  {
   "cell_type": "markdown",
   "id": "01e8987a",
   "metadata": {},
   "source": [
    "# Introduction and Objective\n",
    "\n",
    "*Briefly describe the purpose and objectives of the laboratory experiment.*\n",
    "\n",
    "[Write your introduction here]\n",
    "\n"
   ]
  },
  {
   "cell_type": "markdown",
   "id": "645c0acd",
   "metadata": {},
   "source": [
    "# Theoretical Background\n",
    "\n",
    "*Provide the theoretical foundation for the experiments to be performed.*\n",
    "\n",
    "[Write your theoretical background here]"
   ]
  },
  {
   "cell_type": "code",
   "execution_count": 17,
   "id": "53d4b63c",
   "metadata": {},
   "outputs": [],
   "source": [
    "from components.data_visualizing import insert_circut_diagram\n",
    "\n",
    "# change to TRUE is you have Simulation Circuit Image\n",
    "# Provide to the image folder, change the name to match\n",
    "\n",
    "IS_LTSPICE_CIRCUIT_AVAILABLE = False\n",
    "img_path = '../images/image_name_here.jpg'  # change string to name of LTspice image\n",
    "img_title = \"LTSpice Simulation Circuit\" # Enter Image Title Here\n",
    "\n",
    "if IS_LTSPICE_CIRCUIT_AVAILABLE:\n",
    "    insert_circut_diagram(img_path=img_path,img_title=img_title)"
   ]
  },
  {
   "cell_type": "markdown",
   "id": "f22cd169",
   "metadata": {},
   "source": [
    "\n",
    "# Experimental Setup\n",
    "\n",
    "*Describe the experimental setup, including circuit diagrams, equipment used, and measurement procedures.*"
   ]
  },
  {
   "cell_type": "code",
   "execution_count": 7,
   "id": "c476e941",
   "metadata": {},
   "outputs": [],
   "source": [
    "from components.data_visualizing import insert_circut_diagram\n",
    "# change to TRUE is you have Simulation Circuit Image\n",
    "# Provide to the image folder, change the name to match\n",
    "\n",
    "IS_LAB_CIRCUIT_AVAILABLE = False\n",
    "img_path = '../images/image_name_here.jpg'  # change string to name of LTspice image\n",
    "img_title = \"LTSpice Simulation Circuit\" # Enter Image Title Here\n",
    "\n",
    "if IS_LAB_CIRCUIT_AVAILABLE:\n",
    "    insert_circut_diagram(img_path=img_path,img_title=img_title)"
   ]
  },
  {
   "cell_type": "markdown",
   "id": "106e6faf",
   "metadata": {},
   "source": [
    "# Data Collection and Processing\n",
    "\n",
    "*Import, process, and analyze experimental data.*"
   ]
  },
  {
   "cell_type": "code",
   "execution_count": null,
   "id": "97813595",
   "metadata": {},
   "outputs": [],
   "source": [
    "from components.data_import import import_measurement_data, import_simulation_data\n",
    "from components.data_processing import process_sim_data,process_single_csv\n",
    "import pandas as pd\n",
    "# Use the code below if you want to read single .csv files\n",
    "# Pull a .csv and .txt files in the data folder\n",
    "\n",
    "IS_DATA_AVAILABLE = False\n",
    "simulation_data_path = \"../data/tek0001CH1.csv\" # Enter path to simulation data\n",
    "oscilloscope_data_path_ch1 = \"../data/tek0001CH1.csv\" # Enter path to chanel 1 oscilloscope data\n",
    "oscilloscope_data_path_ch2 = \"../data/tek0001CH2.csv\" # Enter path to chanel 2 osilloscope data\n",
    "\n",
    "\n",
    "cleaned_sim_data = pd.DataFrame()\n",
    "cleaned_ch1_data = pd.DataFrame()\n",
    "cleaned_ch1_data = pd.DataFrame()\n",
    "\n",
    "if IS_DATA_AVAILABLE:\n",
    "    sim_data = import_simulation_data(simulation_data_path)\n",
    "    ch1_data = import_measurement_data(oscilloscope_data_path_ch1)\n",
    "    ch2_data = import_measurement_data(oscilloscope_data_path_ch2)\n",
    "    \n",
    "    # Processing the data\n",
    "\n",
    "    cleaned_sim_data = process_sim_data (sim_data)\n",
    "    cleaned_ch1_data = process_single_csv(ch1_data)\n",
    "    cleaned_ch2_data =process_single_csv(ch2_data)\n",
    "    "
   ]
  },
  {
   "cell_type": "code",
   "execution_count": 3,
   "id": "30783332",
   "metadata": {},
   "outputs": [],
   "source": [
    "# Use the code below if you want to read multiple .csv files\n",
    "from logger import logging\n",
    "from components.data_import import get_multiple_oscilloscope_data_files\n",
    "from components.data_processing import process_multiple_csv\n",
    "import re\n",
    "# By default all csv file from oscilliscope should be saved in the format \n",
    "# \"xxxxCH1_5.csv\"\n",
    "# CH1 - channel 1 : 5 - measurement taken for maybe 5 micro amperes\n",
    "# if not in this format, do rename it\n",
    "\n",
    "#Put folder in the data folder\n",
    "\n",
    "pattern = re.compile(r'.*?(CH\\d+)_(\\d+).csv$')\n",
    "processed_data = {}\n",
    "index = []\n",
    "\n",
    "MULTIPLE_FILES = False\n",
    "\n",
    "if MULTIPLE_FILES:   \n",
    "    data_path = \"../data/Enter_folder_name\" # Enter path to the data folder\n",
    "    data, index = get_multiple_oscilloscope_data_files(data_path)\n",
    "    \n",
    "    # Processed csv files\n",
    "    processed_data = process_multiple_csv(data=data,value=index)\n",
    "    print(processed_data)\n",
    "    "
   ]
  },
  {
   "cell_type": "markdown",
   "id": "dda22f1f",
   "metadata": {},
   "source": [
    "# Data Visualization and Analysis\n",
    "\n",
    "*Visualize and analyze the collected data.*"
   ]
  },
  {
   "cell_type": "code",
   "execution_count": 7,
   "id": "e1d8ed17",
   "metadata": {},
   "outputs": [],
   "source": [
    "# For Plotting Simulation Values\n",
    "\n",
    "from components.data_visualizing import plot_sim_data\n",
    "# Function requires 5 arguments, hover cursor to see\n",
    "PLOT_SIM_DATA = False\n",
    "\n",
    "if PLOT_SIM_DATA:\n",
    "     fig, ax = plot_sim_data(\n",
    "                    cleaned_sim_data,\n",
    "                    x_label=\"\",\n",
    "                    y_label=\"\",\n",
    "                    title=\"\",\n",
    "                    label=\"\"\n",
    "               )"
   ]
  },
  {
   "cell_type": "code",
   "execution_count": null,
   "id": "fdeb19a3",
   "metadata": {},
   "outputs": [],
   "source": [
    "# For Plotting Single Values from oscilloscope\n",
    "# Modify the \"plot_single_oscillo_data\" if necessary\n",
    "\n",
    "from components.data_visualizing import plot_single_oscillo_data\n",
    "# Function requires 6 arguments, hover cursor to see\n",
    "PLOT_SINGLE_OSCI_DATA = False\n",
    "\n",
    "if PLOT_SINGLE_OSCI_DATA:\n",
    "     fig, ax = plot_single_oscillo_data(\n",
    "                    ch1_data=cleaned_ch1_data,\n",
    "                    ch2_data=cleaned_ch2_data,\n",
    "                    x_label=\"\",\n",
    "                    y_label=\"\",\n",
    "                    title=\"\",\n",
    "                    label=\"\"\n",
    "                )"
   ]
  },
  {
   "cell_type": "code",
   "execution_count": 6,
   "id": "72b01e76",
   "metadata": {},
   "outputs": [],
   "source": [
    "# For Plotting Multiple Values from oscilloscope\n",
    "from components.data_visualizing import plot_multiple_data\n",
    "\n",
    "PLOT_MULTIPLE = False\n",
    "if PLOT_MULTIPLE:\n",
    "\n",
    "    fig, ax = plot_multiple_data(\n",
    "                    processed_data= processed_data,\n",
    "                    values=index,\n",
    "                    x_label=\"\",\n",
    "                    y_label=\"\",\n",
    "                    title=\"\",\n",
    "                    values_unit=\"\"\n",
    "                )"
   ]
  },
  {
   "cell_type": "markdown",
   "id": "7fc9e427",
   "metadata": {},
   "source": [
    "# Discussion and Analysis\n",
    "\n",
    "*Analyze and interpret the results, compare with theoretical predictions, and discuss any discrepancies.*\n",
    "\n",
    "[Write your discussion here]\n",
    "\n",
    "# Error Analysis\n",
    "\n",
    "*Identify and quantify sources of error in the experiment.*\n",
    "\n",
    "[Write your error analysis here]"
   ]
  },
  {
   "cell_type": "markdown",
   "id": "607b528f",
   "metadata": {},
   "source": [
    "# Conclusion\n",
    "\n",
    "*Summarize the key findings and insights from the experiment.*\n",
    "\n",
    "[Write your conclusion here]\n"
   ]
  },
  {
   "cell_type": "markdown",
   "id": "9d2239f0",
   "metadata": {},
   "source": [
    "# References\n",
    " \n",
    "*List references and resources used in the experiment and analysis.*\n",
    " \n",
    "1. [List your references here]\n",
    "2. \n",
    "3. "
   ]
  }
 ],
 "metadata": {
  "kernelspec": {
   "display_name": ".venv",
   "language": "python",
   "name": "python3"
  },
  "language_info": {
   "codemirror_mode": {
    "name": "ipython",
    "version": 3
   },
   "file_extension": ".py",
   "mimetype": "text/x-python",
   "name": "python",
   "nbconvert_exporter": "python",
   "pygments_lexer": "ipython3",
   "version": "3.13.2"
  }
 },
 "nbformat": 4,
 "nbformat_minor": 5
}
