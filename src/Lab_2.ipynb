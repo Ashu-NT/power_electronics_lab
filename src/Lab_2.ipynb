{
 "cells": [
  {
   "cell_type": "markdown",
   "id": "7e453396",
   "metadata": {},
   "source": [
    "<div align=\"center\">\n",
    "\n",
    "**Lab Report Title**  \n",
    "*Field Effect Transistor Applications*\n",
    "\n",
    "**Course:** ELECTRONICS 2 \n",
    "\n",
    "**Date:** 28/05/2025\n",
    "\n",
    "\n",
    "**Group Members**\n",
    "\n",
    "| Full Name                 | Matriculation No. |\n",
    "| ------------------------- | ----------------- |\n",
    "| Ashu Nkongho Tekoh        | 2756129           |\n",
    "| ENESS xxxxxxx xxxxx        | xxxxxxx           |\n",
    "| xxxx xxxxxxx xxxxx        | xxxxxxx           |\n",
    "\n",
    "\n",
    "</div>"
   ]
  },
  {
   "cell_type": "code",
   "execution_count": 3,
   "id": "fd3aca9e",
   "metadata": {},
   "outputs": [
    {
     "name": "stdout",
     "output_type": "stream",
     "text": [
      "The autoreload extension is already loaded. To reload it, use:\n",
      "  %reload_ext autoreload\n"
     ]
    }
   ],
   "source": [
    "#Load all Import\n",
    "\n",
    "%load_ext autoreload\n",
    "%autoreload 2"
   ]
  },
  {
   "cell_type": "markdown",
   "id": "01e8987a",
   "metadata": {},
   "source": [
    "# Introduction and Objective\n",
    "\n",
    "*Briefly describe the purpose and objectives of the laboratory experiment.*\n",
    "\n",
    "[Write your introduction here]\n",
    "\n"
   ]
  },
  {
   "cell_type": "markdown",
   "id": "66829cb3",
   "metadata": {},
   "source": [
    "# Preparation"
   ]
  },
  {
   "cell_type": "markdown",
   "id": "645c0acd",
   "metadata": {},
   "source": [
    "## Part 1: MOSFET as Switch \n",
    "**Objective:** Switch a 50 mA load at 5 V using a BS108 n-channel MOSFET driven by a 3.3 V PWM (50 % duty).\n",
    "\n",
    "1. **Equivalent load resistance**  \n",
    "   $$R_L = \\frac{V_0}{I_D} = \\frac{5\\text{ V}}{50\\text{ mA}} = {100\\;\\Omega}.$$\n",
    "\n",
    "2. **Switching‐loss analysis**  \n",
    "   - Instantaneous power:  $p(t) = v_{DS}(t)\\cdot i_D(t).$ \n",
    "   \n",
    "   - During each edge (rise/fall time $t_r = t_f = 20\\text{ ns}$), approximate the overlap energy:  \n",
    "     $$\n",
    "       E_{\\rm edge}\n",
    "       \\approx \\frac{1}{2}\\,V_0\\cdot I_D \\cdot t_{\\rm edge}\n",
    "       = \\tfrac12\\,(5\\text{ V})(0.05\\text{ A})(20\\times10^{-9}\\text{ s})\n",
    "       = 2.5\\times10^{-9}\\text{ J}.\n",
    "     $$  \n",
    "   - Total switching energy per PWM period: $E_{\\rm sw}=2E_{\\rm edge}.$  \n",
    "   - Average switching power:  \n",
    "                              $$\n",
    "                                P_{\\rm sw} = E_{\\rm sw}\\,f_{\\rm PWM}\n",
    "                                = 5\\times10^{-9}\\,\\text{J}\\;\\times f_{\\rm PWM}.\n",
    "                              $$ \n",
    "   - **Worst‐case** $p(t)$ peaks at mid‐transition $v\\approx2.5 V, i\\approx25 mA$.\n",
    "  \n",
    "3. **Simulation action**  \n",
    "   - Build the BS108 switch circuit in SPICE / LT-Spice.  \n",
    "   - Plot $v_{DS}(t)$, $i_D(t)$, and compute $p(t)$.  \n",
    "   - Identify peak power during a switching edge and verify the triangular approximation.  \n",
    "   - Sweep $f_{\\rm PWM}$ to observe linear scaling of $P_{\\rm sw}$.\n",
    "   \n",
    "   "
   ]
  },
  {
   "cell_type": "code",
   "execution_count": 4,
   "id": "53d4b63c",
   "metadata": {},
   "outputs": [
    {
     "ename": "ModuleNotFoundError",
     "evalue": "No module named 'matplotlib'",
     "output_type": "error",
     "traceback": [
      "\u001b[31m---------------------------------------------------------------------------\u001b[39m",
      "\u001b[31mModuleNotFoundError\u001b[39m                       Traceback (most recent call last)",
      "\u001b[36mCell\u001b[39m\u001b[36m \u001b[39m\u001b[32mIn[4]\u001b[39m\u001b[32m, line 1\u001b[39m\n\u001b[32m----> \u001b[39m\u001b[32m1\u001b[39m \u001b[38;5;28;01mfrom\u001b[39;00m\u001b[38;5;250m \u001b[39m\u001b[34;01mcomponents\u001b[39;00m\u001b[34;01m.\u001b[39;00m\u001b[34;01mdata_visualizing\u001b[39;00m\u001b[38;5;250m \u001b[39m\u001b[38;5;28;01mimport\u001b[39;00m insert_circut_diagram\n\u001b[32m      3\u001b[39m \u001b[38;5;66;03m# change to TRUE is you have Simulation Circuit Image\u001b[39;00m\n\u001b[32m      4\u001b[39m \u001b[38;5;66;03m# Provide to the image folder, change the name to match\u001b[39;00m\n\u001b[32m      6\u001b[39m IS_LTSPICE_CIRCUIT_AVAILABLE = \u001b[38;5;28;01mFalse\u001b[39;00m\n",
      "\u001b[36mFile \u001b[39m\u001b[32mc:\\Users\\Swiss Computer\\Desktop\\Python workspace\\power_electronics_lab\\src\\components\\data_visualizing.py:2\u001b[39m\n\u001b[32m----> \u001b[39m\u001b[32m2\u001b[39m \u001b[38;5;28;01mimport\u001b[39;00m\u001b[38;5;250m \u001b[39m\u001b[34;01mmatplotlib\u001b[39;00m\u001b[34;01m.\u001b[39;00m\u001b[34;01mpyplot\u001b[39;00m\u001b[38;5;250m \u001b[39m\u001b[38;5;28;01mas\u001b[39;00m\u001b[38;5;250m \u001b[39m\u001b[34;01mplt\u001b[39;00m\n\u001b[32m      4\u001b[39m \u001b[38;5;28;01mimport\u001b[39;00m\u001b[38;5;250m \u001b[39m\u001b[34;01mmatplotlib\u001b[39;00m\u001b[34;01m.\u001b[39;00m\u001b[34;01mimage\u001b[39;00m\u001b[38;5;250m \u001b[39m\u001b[38;5;28;01mas\u001b[39;00m\u001b[38;5;250m \u001b[39m\u001b[34;01mmpimg\u001b[39;00m\n\u001b[32m      5\u001b[39m \u001b[38;5;28;01mfrom\u001b[39;00m\u001b[38;5;250m \u001b[39m\u001b[34;01mIPython\u001b[39;00m\u001b[34;01m.\u001b[39;00m\u001b[34;01mdisplay\u001b[39;00m\u001b[38;5;250m \u001b[39m\u001b[38;5;28;01mimport\u001b[39;00m display,Markdown\n",
      "\u001b[31mModuleNotFoundError\u001b[39m: No module named 'matplotlib'"
     ]
    }
   ],
   "source": [
    "from components.data_visualizing import insert_circut_diagram\n",
    "\n",
    "# change to TRUE is you have Simulation Circuit Image\n",
    "# Provide to the image folder, change the name to match\n",
    "\n",
    "IS_LTSPICE_CIRCUIT_AVAILABLE = False\n",
    "img_path = '../images/image_name_here.jpg'  # change string to name of LTspice image\n",
    "img_title = \"LTSpice Simulation Circuit\" # Enter Image Title Here\n",
    "\n",
    "if IS_LTSPICE_CIRCUIT_AVAILABLE:\n",
    "    insert_circut_diagram(img_path=img_path,img_title=img_title)"
   ]
  },
  {
   "cell_type": "markdown",
   "id": "0fa68b3c",
   "metadata": {},
   "source": [
    "## Part 2: MOSFET as Current Mirror\n",
    "\n",
    "**Objective:** Build an n-channel current mirror (Figure 2) that sources $I_{\\rm out}=10\\text{ mA}$.\n",
    "\n",
    "1. **Supply voltage $V_b$**  \n",
    "   Choose $V_b = 12\\text{ V}$.\n",
    "\n",
    "2. **Set bias resistor $R_V$**  \n",
    "   - Diode‐connected device Q1 is biased at $I_{\\rm in}=10\\text{ mA}$.  \n",
    "   - From a transfer curve (simulated): at $I_D=10$ mA, suppose $V_{GS1}=3.5$ V.  \n",
    "   - Then  \n",
    "     $$\n",
    "       R_V = \\frac{V_b - V_{GS1}}{I_{\\rm in}}\n",
    "       = \\frac{12\\text{ V} - 3.5\\text{ V}}{0.01\\text{ A}}\n",
    "       = 850\\;\\Omega.\n",
    "     $$\n",
    "\n",
    "3. **Mirror accuracy**  \n",
    "   $$\n",
    "     \\frac{I_{\\rm out}}{I_{\\rm in}}\n",
    "     = \\frac{g_{m,2}}{g_{m,1}}\n",
    "     \\approx 1\n",
    "     \\quad\\text{(if }V_{\\rm out}\\ll V_A\\text{).}\n",
    "   $$\n",
    "\n",
    "4. **Real‐source model**  \n",
    "   - Short‐circuit current $I_0 = I_{\\rm in}$.  \n",
    "   - Output resistance $r_i$ from small‐signal slope:  \n",
    "     simulate sweeping $V_{\\rm out}$ or $R_L$ until $I_{\\rm out}$ changes by ±10 %, then compute  \n",
    "     $$\n",
    "       r_i = \\frac{\\Delta V_{\\rm out}}{\\Delta I_{\\rm out}}.\n",
    "     $$\n"
   ]
  },
  {
   "cell_type": "code",
   "execution_count": null,
   "id": "15e51482",
   "metadata": {},
   "outputs": [],
   "source": [
    "from components.data_visualizing import insert_circut_diagram\n",
    "\n",
    "# change to TRUE is you have Simulation Circuit Image\n",
    "# Provide to the image folder, change the name to match\n",
    "\n",
    "IS_LTSPICE_CIRCUIT_AVAILABLE = False\n",
    "img_path = '../images/image_name_here.jpg'  # change string to name of LTspice image\n",
    "img_title = \"LTSpice Simulation Circuit\" # Enter Image Title Here\n",
    "\n",
    "if IS_LTSPICE_CIRCUIT_AVAILABLE:\n",
    "    insert_circut_diagram(img_path=img_path,img_title=img_title)"
   ]
  },
  {
   "cell_type": "markdown",
   "id": "a33a50ca",
   "metadata": {},
   "source": [
    "## Part 3: MOSFET as Single-Ended Amplifier\n",
    "\n",
    "**Objective:** Realize a common-source amplifier (Figure 4) with  \n",
    "$$\n",
    "  v_{\\rm in}(t) = 0.1\\sin(2\\pi\\cdot1\\text{ kHz}\\,t) + 0.1\\text{ V}, \n",
    "  \\quad\n",
    "  A_u = \\frac{v_{\\rm out,pp}}{v_{\\rm in,pp}} = -20.\n",
    "$$\n",
    "\n",
    "\n",
    "1. **Bias current $I_{D0}$**  \n",
    "   Choose $I_{D0}=2\\text{ mA}$. From the transfer characteristic at $I_{D0}$, read off:  \n",
    "   - $V_{GS0}$,  \n",
    "   - $g_m = \\left.\\frac{dI_D}{dV_{GS}}\\right|_{I_{D0}}.$\n",
    "\n",
    "2. **Drain resistor $R_D$**  \n",
    "   $$\n",
    "     |A_u| = g_m\\,R_D\n",
    "     \\;\\Longrightarrow\\;\n",
    "     R_D = \\frac{20}{g_m}.\n",
    "   $$\n",
    "\n",
    "3. **Source resistor $R_S$**  \n",
    "   $$\n",
    "     R_S = \\frac{V_{GS0} - V_{\\rm th}}{I_{D0}}\n",
    "     \\quad\\text{(or from a graphical load line).}\n",
    "   $$\n",
    "\n",
    "4. **Gate-bias divider $R_1, R_2$**  \n",
    "   Target gate voltage:\n",
    "   $\n",
    "     V_G = V_{GS0} + I_{D0}R_S,\n",
    "   $\n",
    "    \n",
    "   then choose\n",
    "\n",
    "   $\n",
    "     \\frac{R_1}{R_2} = \\frac{V_b - V_G}{V_G}.\n",
    "   $\n",
    "\n",
    "5. **Simulation action**  \n",
    "   - Simulate the amplifier in SPICE.  \n",
    "   - Export $I_D\\!-\\!V_{GS}$ (transfer) and $I_D\\!-\\!V_{DS}$ (output) curves.  \n",
    "   - On the $I_D\\!-\\!V_{DS}$ plot, draw the DC load line:  \n",
    "     $$I_D = \\frac{V_b - V_{DS}}{R_D} - \\frac{V_{GS}}{R_S}$$  \n",
    "     and locate the operating point.  \n",
    "   - Tweak $R_D, R_S, R_1, R_2$ to achieve $A_u=-20$ and $V_{DS0}\\approx5\\text{ V}$."
   ]
  },
  {
   "cell_type": "code",
   "execution_count": null,
   "id": "c62591e6",
   "metadata": {},
   "outputs": [],
   "source": [
    "from components.data_visualizing import insert_circut_diagram\n",
    "\n",
    "# change to TRUE is you have Simulation Circuit Image\n",
    "# Provide to the image folder, change the name to match\n",
    "\n",
    "IS_LTSPICE_CIRCUIT_AVAILABLE = False\n",
    "img_path = '../images/image_name_here.jpg'  # change string to name of LTspice image\n",
    "img_title = \"LTSpice Simulation Circuit\" # Enter Image Title Here\n",
    "\n",
    "if IS_LTSPICE_CIRCUIT_AVAILABLE:\n",
    "    insert_circut_diagram(img_path=img_path,img_title=img_title)"
   ]
  },
  {
   "cell_type": "markdown",
   "id": "f22cd169",
   "metadata": {},
   "source": [
    "\n",
    "# Experimental Setup\n",
    "\n",
    "*Describe the experimental setup, including circuit diagrams, equipment used, and measurement procedures.*"
   ]
  },
  {
   "cell_type": "code",
   "execution_count": null,
   "id": "c476e941",
   "metadata": {},
   "outputs": [],
   "source": [
    "from components.data_visualizing import insert_circut_diagram\n",
    "# change to TRUE is you have Simulation Circuit Image\n",
    "# Provide to the image folder, change the name to match\n",
    "\n",
    "IS_LAB_CIRCUIT_AVAILABLE = False\n",
    "img_path = '../images/image_name_here.jpg'  # change string to name of LTspice image\n",
    "img_title = \"LTSpice Simulation Circuit\" # Enter Image Title Here\n",
    "\n",
    "if IS_LAB_CIRCUIT_AVAILABLE:\n",
    "    insert_circut_diagram(img_path=img_path,img_title=img_title)"
   ]
  },
  {
   "cell_type": "markdown",
   "id": "106e6faf",
   "metadata": {},
   "source": [
    "# Data Collection and Processing\n",
    "\n",
    "*Import, process, and analyze experimental data.*"
   ]
  },
  {
   "cell_type": "code",
   "execution_count": null,
   "id": "97813595",
   "metadata": {},
   "outputs": [],
   "source": [
    "from components.data_import import import_measurement_data, import_simulation_data\n",
    "from components.data_processing import process_sim_data,process_single_csv\n",
    "import pandas as pd\n",
    "# Use the code below if you want to read single .csv files\n",
    "# Pull a .csv and .txt files in the data folder\n",
    "\n",
    "IS_DATA_AVAILABLE = False\n",
    "simulation_data_path = \"../data/tek0001CH1.csv\" # Enter path to simulation data\n",
    "oscilloscope_data_path_ch1 = \"../data/tek0001CH1.csv\" # Enter path to chanel 1 oscilloscope data\n",
    "oscilloscope_data_path_ch2 = \"../data/tek0001CH2.csv\" # Enter path to chanel 2 osilloscope data\n",
    "\n",
    "\n",
    "cleaned_sim_data = pd.DataFrame()\n",
    "cleaned_ch1_data = pd.DataFrame()\n",
    "cleaned_ch1_data = pd.DataFrame()\n",
    "\n",
    "if IS_DATA_AVAILABLE:\n",
    "    sim_data = import_simulation_data(simulation_data_path)\n",
    "    ch1_data = import_measurement_data(oscilloscope_data_path_ch1)\n",
    "    ch2_data = import_measurement_data(oscilloscope_data_path_ch2)\n",
    "    \n",
    "    # Processing the data\n",
    "\n",
    "    cleaned_sim_data = process_sim_data (sim_data)\n",
    "    cleaned_ch1_data = process_single_csv(ch1_data)\n",
    "    cleaned_ch2_data =process_single_csv(ch2_data)\n",
    "    "
   ]
  },
  {
   "cell_type": "code",
   "execution_count": null,
   "id": "30783332",
   "metadata": {},
   "outputs": [],
   "source": [
    "# Use the code below if you want to read multiple .csv files\n",
    "from logger import logging\n",
    "from components.data_import import get_multiple_oscilloscope_data_files\n",
    "from components.data_processing import process_multiple_csv\n",
    "import re\n",
    "# By default all csv file from oscilliscope should be saved in the format \n",
    "# \"xxxxCH1_5.csv\"\n",
    "# CH1 - channel 1 : 5 - measurement taken for maybe 5 micro amperes\n",
    "# if not in this format, do rename it\n",
    "\n",
    "#Put folder in the data folder\n",
    "\n",
    "pattern = re.compile(r'.*?(CH\\d+)_(\\d+).csv$')\n",
    "processed_data = {}\n",
    "index = []\n",
    "\n",
    "MULTIPLE_FILES = False\n",
    "\n",
    "if MULTIPLE_FILES:   \n",
    "    data_path = \"../data/Enter_folder_name\" # Enter path to the data folder\n",
    "    data, index = get_multiple_oscilloscope_data_files(data_path)\n",
    "    \n",
    "    # Processed csv files\n",
    "    processed_data = process_multiple_csv(data=data,value=index)\n",
    "    print(processed_data)\n",
    "    "
   ]
  },
  {
   "cell_type": "markdown",
   "id": "dda22f1f",
   "metadata": {},
   "source": [
    "# Data Visualization and Analysis\n",
    "\n",
    "*Visualize and analyze the collected data.*"
   ]
  },
  {
   "cell_type": "code",
   "execution_count": null,
   "id": "e1d8ed17",
   "metadata": {},
   "outputs": [],
   "source": [
    "# For Plotting Simulation Values\n",
    "\n",
    "from components.data_visualizing import plot_sim_data\n",
    "# Function requires 5 arguments, hover cursor to see\n",
    "PLOT_SIM_DATA = False\n",
    "\n",
    "if PLOT_SIM_DATA:\n",
    "     fig, ax = plot_sim_data(\n",
    "                    cleaned_sim_data,\n",
    "                    x_label=\"\",\n",
    "                    y_label=\"\",\n",
    "                    title=\"\",\n",
    "                    label=\"\"\n",
    "               )"
   ]
  },
  {
   "cell_type": "code",
   "execution_count": null,
   "id": "fdeb19a3",
   "metadata": {},
   "outputs": [],
   "source": [
    "# For Plotting Single Values from oscilloscope\n",
    "# Modify the \"plot_single_oscillo_data\" if necessary\n",
    "\n",
    "from components.data_visualizing import plot_single_oscillo_data\n",
    "# Function requires 6 arguments, hover cursor to see\n",
    "PLOT_SINGLE_OSCI_DATA = False\n",
    "\n",
    "if PLOT_SINGLE_OSCI_DATA:\n",
    "     fig, ax = plot_single_oscillo_data(\n",
    "                    ch1_data=cleaned_ch1_data,\n",
    "                    ch2_data=cleaned_ch2_data,\n",
    "                    x_label=\"\",\n",
    "                    y_label=\"\",\n",
    "                    title=\"\",\n",
    "                    label=\"\"\n",
    "                )"
   ]
  },
  {
   "cell_type": "code",
   "execution_count": null,
   "id": "72b01e76",
   "metadata": {},
   "outputs": [],
   "source": [
    "# For Plotting Multiple Values from oscilloscope\n",
    "from components.data_visualizing import plot_multiple_data\n",
    "\n",
    "PLOT_MULTIPLE = False\n",
    "if PLOT_MULTIPLE:\n",
    "\n",
    "    fig, ax = plot_multiple_data(\n",
    "                    processed_data= processed_data,\n",
    "                    values=index,\n",
    "                    x_label=\"\",\n",
    "                    y_label=\"\",\n",
    "                    title=\"\",\n",
    "                    values_unit=\"\"\n",
    "                )"
   ]
  },
  {
   "cell_type": "markdown",
   "id": "7fc9e427",
   "metadata": {},
   "source": [
    "# Discussion and Analysis\n",
    "\n",
    "*Analyze and interpret the results, compare with theoretical predictions, and discuss any discrepancies.*\n",
    "\n",
    "[Write your discussion here]\n",
    "\n",
    "# Error Analysis\n",
    "\n",
    "*Identify and quantify sources of error in the experiment.*\n",
    "\n",
    "[Write your error analysis here]"
   ]
  },
  {
   "cell_type": "markdown",
   "id": "607b528f",
   "metadata": {},
   "source": [
    "# Conclusion\n",
    "\n",
    "*Summarize the key findings and insights from the experiment.*\n",
    "\n",
    "[Write your conclusion here]\n"
   ]
  },
  {
   "cell_type": "markdown",
   "id": "9d2239f0",
   "metadata": {},
   "source": [
    "# References\n",
    " \n",
    "*List references and resources used in the experiment and analysis.*\n",
    " \n",
    "1. [List your references here]\n",
    "2. \n",
    "3. "
   ]
  }
 ],
 "metadata": {
  "kernelspec": {
   "display_name": ".venv",
   "language": "python",
   "name": "python3"
  },
  "language_info": {
   "codemirror_mode": {
    "name": "ipython",
    "version": 3
   },
   "file_extension": ".py",
   "mimetype": "text/x-python",
   "name": "python",
   "nbconvert_exporter": "python",
   "pygments_lexer": "ipython3",
   "version": "3.13.0"
  }
 },
 "nbformat": 4,
 "nbformat_minor": 5
}
